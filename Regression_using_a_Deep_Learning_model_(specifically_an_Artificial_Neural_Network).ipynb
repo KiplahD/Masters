{
  "cells": [
    {
      "cell_type": "markdown",
      "metadata": {
        "id": "view-in-github",
        "colab_type": "text"
      },
      "source": [
        "<a href=\"https://colab.research.google.com/github/KiplahD/Masters/blob/main/Regression_using_a_Deep_Learning_model_(specifically_an_Artificial_Neural_Network).ipynb\" target=\"_parent\"><img src=\"https://colab.research.google.com/assets/colab-badge.svg\" alt=\"Open In Colab\"/></a>"
      ]
    },
    {
      "cell_type": "code",
      "execution_count": null,
      "metadata": {
        "colab": {
          "background_save": true,
          "base_uri": "https://localhost:8080/",
          "height": 423
        },
        "id": "5TWn7A_DVS_y",
        "outputId": "bfd83ba6-6131-4653-e2b5-78565f2a5ffe"
      },
      "outputs": [
        {
          "data": {
            "text/html": [
              "\n",
              "  <div id=\"df-63da1ad4-0c36-4b73-ab70-15c6b7cb1851\" class=\"colab-df-container\">\n",
              "    <div>\n",
              "<style scoped>\n",
              "    .dataframe tbody tr th:only-of-type {\n",
              "        vertical-align: middle;\n",
              "    }\n",
              "\n",
              "    .dataframe tbody tr th {\n",
              "        vertical-align: top;\n",
              "    }\n",
              "\n",
              "    .dataframe thead th {\n",
              "        text-align: right;\n",
              "    }\n",
              "</style>\n",
              "<table border=\"1\" class=\"dataframe\">\n",
              "  <thead>\n",
              "    <tr style=\"text-align: right;\">\n",
              "      <th></th>\n",
              "      <th>TV</th>\n",
              "      <th>Radio</th>\n",
              "      <th>Newspaper</th>\n",
              "      <th>Sales</th>\n",
              "    </tr>\n",
              "  </thead>\n",
              "  <tbody>\n",
              "    <tr>\n",
              "      <th>0</th>\n",
              "      <td>230.1</td>\n",
              "      <td>37.8</td>\n",
              "      <td>69.2</td>\n",
              "      <td>22.1</td>\n",
              "    </tr>\n",
              "    <tr>\n",
              "      <th>1</th>\n",
              "      <td>44.5</td>\n",
              "      <td>39.3</td>\n",
              "      <td>45.1</td>\n",
              "      <td>10.4</td>\n",
              "    </tr>\n",
              "    <tr>\n",
              "      <th>2</th>\n",
              "      <td>17.2</td>\n",
              "      <td>45.9</td>\n",
              "      <td>69.3</td>\n",
              "      <td>9.3</td>\n",
              "    </tr>\n",
              "    <tr>\n",
              "      <th>3</th>\n",
              "      <td>151.5</td>\n",
              "      <td>41.3</td>\n",
              "      <td>58.5</td>\n",
              "      <td>18.5</td>\n",
              "    </tr>\n",
              "    <tr>\n",
              "      <th>4</th>\n",
              "      <td>180.8</td>\n",
              "      <td>10.8</td>\n",
              "      <td>58.4</td>\n",
              "      <td>12.9</td>\n",
              "    </tr>\n",
              "    <tr>\n",
              "      <th>...</th>\n",
              "      <td>...</td>\n",
              "      <td>...</td>\n",
              "      <td>...</td>\n",
              "      <td>...</td>\n",
              "    </tr>\n",
              "    <tr>\n",
              "      <th>195</th>\n",
              "      <td>38.2</td>\n",
              "      <td>3.7</td>\n",
              "      <td>13.8</td>\n",
              "      <td>7.6</td>\n",
              "    </tr>\n",
              "    <tr>\n",
              "      <th>196</th>\n",
              "      <td>94.2</td>\n",
              "      <td>4.9</td>\n",
              "      <td>8.1</td>\n",
              "      <td>9.7</td>\n",
              "    </tr>\n",
              "    <tr>\n",
              "      <th>197</th>\n",
              "      <td>177.0</td>\n",
              "      <td>9.3</td>\n",
              "      <td>6.4</td>\n",
              "      <td>12.8</td>\n",
              "    </tr>\n",
              "    <tr>\n",
              "      <th>198</th>\n",
              "      <td>283.6</td>\n",
              "      <td>42.0</td>\n",
              "      <td>66.2</td>\n",
              "      <td>25.5</td>\n",
              "    </tr>\n",
              "    <tr>\n",
              "      <th>199</th>\n",
              "      <td>232.1</td>\n",
              "      <td>8.6</td>\n",
              "      <td>8.7</td>\n",
              "      <td>13.4</td>\n",
              "    </tr>\n",
              "  </tbody>\n",
              "</table>\n",
              "<p>200 rows × 4 columns</p>\n",
              "</div>\n",
              "    <div class=\"colab-df-buttons\">\n",
              "\n",
              "  <div class=\"colab-df-container\">\n",
              "    <button class=\"colab-df-convert\" onclick=\"convertToInteractive('df-63da1ad4-0c36-4b73-ab70-15c6b7cb1851')\"\n",
              "            title=\"Convert this dataframe to an interactive table.\"\n",
              "            style=\"display:none;\">\n",
              "\n",
              "  <svg xmlns=\"http://www.w3.org/2000/svg\" height=\"24px\" viewBox=\"0 -960 960 960\">\n",
              "    <path d=\"M120-120v-720h720v720H120Zm60-500h600v-160H180v160Zm220 220h160v-160H400v160Zm0 220h160v-160H400v160ZM180-400h160v-160H180v160Zm440 0h160v-160H620v160ZM180-180h160v-160H180v160Zm440 0h160v-160H620v160Z\"/>\n",
              "  </svg>\n",
              "    </button>\n",
              "\n",
              "  <style>\n",
              "    .colab-df-container {\n",
              "      display:flex;\n",
              "      gap: 12px;\n",
              "    }\n",
              "\n",
              "    .colab-df-convert {\n",
              "      background-color: #E8F0FE;\n",
              "      border: none;\n",
              "      border-radius: 50%;\n",
              "      cursor: pointer;\n",
              "      display: none;\n",
              "      fill: #1967D2;\n",
              "      height: 32px;\n",
              "      padding: 0 0 0 0;\n",
              "      width: 32px;\n",
              "    }\n",
              "\n",
              "    .colab-df-convert:hover {\n",
              "      background-color: #E2EBFA;\n",
              "      box-shadow: 0px 1px 2px rgba(60, 64, 67, 0.3), 0px 1px 3px 1px rgba(60, 64, 67, 0.15);\n",
              "      fill: #174EA6;\n",
              "    }\n",
              "\n",
              "    .colab-df-buttons div {\n",
              "      margin-bottom: 4px;\n",
              "    }\n",
              "\n",
              "    [theme=dark] .colab-df-convert {\n",
              "      background-color: #3B4455;\n",
              "      fill: #D2E3FC;\n",
              "    }\n",
              "\n",
              "    [theme=dark] .colab-df-convert:hover {\n",
              "      background-color: #434B5C;\n",
              "      box-shadow: 0px 1px 3px 1px rgba(0, 0, 0, 0.15);\n",
              "      filter: drop-shadow(0px 1px 2px rgba(0, 0, 0, 0.3));\n",
              "      fill: #FFFFFF;\n",
              "    }\n",
              "  </style>\n",
              "\n",
              "    <script>\n",
              "      const buttonEl =\n",
              "        document.querySelector('#df-63da1ad4-0c36-4b73-ab70-15c6b7cb1851 button.colab-df-convert');\n",
              "      buttonEl.style.display =\n",
              "        google.colab.kernel.accessAllowed ? 'block' : 'none';\n",
              "\n",
              "      async function convertToInteractive(key) {\n",
              "        const element = document.querySelector('#df-63da1ad4-0c36-4b73-ab70-15c6b7cb1851');\n",
              "        const dataTable =\n",
              "          await google.colab.kernel.invokeFunction('convertToInteractive',\n",
              "                                                    [key], {});\n",
              "        if (!dataTable) return;\n",
              "\n",
              "        const docLinkHtml = 'Like what you see? Visit the ' +\n",
              "          '<a target=\"_blank\" href=https://colab.research.google.com/notebooks/data_table.ipynb>data table notebook</a>'\n",
              "          + ' to learn more about interactive tables.';\n",
              "        element.innerHTML = '';\n",
              "        dataTable['output_type'] = 'display_data';\n",
              "        await google.colab.output.renderOutput(dataTable, element);\n",
              "        const docLink = document.createElement('div');\n",
              "        docLink.innerHTML = docLinkHtml;\n",
              "        element.appendChild(docLink);\n",
              "      }\n",
              "    </script>\n",
              "  </div>\n",
              "\n",
              "\n",
              "<div id=\"df-26c63293-12b4-4f42-b961-53a07799add6\">\n",
              "  <button class=\"colab-df-quickchart\" onclick=\"quickchart('df-26c63293-12b4-4f42-b961-53a07799add6')\"\n",
              "            title=\"Suggest charts\"\n",
              "            style=\"display:none;\">\n",
              "\n",
              "<svg xmlns=\"http://www.w3.org/2000/svg\" height=\"24px\"viewBox=\"0 0 24 24\"\n",
              "     width=\"24px\">\n",
              "    <g>\n",
              "        <path d=\"M19 3H5c-1.1 0-2 .9-2 2v14c0 1.1.9 2 2 2h14c1.1 0 2-.9 2-2V5c0-1.1-.9-2-2-2zM9 17H7v-7h2v7zm4 0h-2V7h2v10zm4 0h-2v-4h2v4z\"/>\n",
              "    </g>\n",
              "</svg>\n",
              "  </button>\n",
              "\n",
              "<style>\n",
              "  .colab-df-quickchart {\n",
              "      --bg-color: #E8F0FE;\n",
              "      --fill-color: #1967D2;\n",
              "      --hover-bg-color: #E2EBFA;\n",
              "      --hover-fill-color: #174EA6;\n",
              "      --disabled-fill-color: #AAA;\n",
              "      --disabled-bg-color: #DDD;\n",
              "  }\n",
              "\n",
              "  [theme=dark] .colab-df-quickchart {\n",
              "      --bg-color: #3B4455;\n",
              "      --fill-color: #D2E3FC;\n",
              "      --hover-bg-color: #434B5C;\n",
              "      --hover-fill-color: #FFFFFF;\n",
              "      --disabled-bg-color: #3B4455;\n",
              "      --disabled-fill-color: #666;\n",
              "  }\n",
              "\n",
              "  .colab-df-quickchart {\n",
              "    background-color: var(--bg-color);\n",
              "    border: none;\n",
              "    border-radius: 50%;\n",
              "    cursor: pointer;\n",
              "    display: none;\n",
              "    fill: var(--fill-color);\n",
              "    height: 32px;\n",
              "    padding: 0;\n",
              "    width: 32px;\n",
              "  }\n",
              "\n",
              "  .colab-df-quickchart:hover {\n",
              "    background-color: var(--hover-bg-color);\n",
              "    box-shadow: 0 1px 2px rgba(60, 64, 67, 0.3), 0 1px 3px 1px rgba(60, 64, 67, 0.15);\n",
              "    fill: var(--button-hover-fill-color);\n",
              "  }\n",
              "\n",
              "  .colab-df-quickchart-complete:disabled,\n",
              "  .colab-df-quickchart-complete:disabled:hover {\n",
              "    background-color: var(--disabled-bg-color);\n",
              "    fill: var(--disabled-fill-color);\n",
              "    box-shadow: none;\n",
              "  }\n",
              "\n",
              "  .colab-df-spinner {\n",
              "    border: 2px solid var(--fill-color);\n",
              "    border-color: transparent;\n",
              "    border-bottom-color: var(--fill-color);\n",
              "    animation:\n",
              "      spin 1s steps(1) infinite;\n",
              "  }\n",
              "\n",
              "  @keyframes spin {\n",
              "    0% {\n",
              "      border-color: transparent;\n",
              "      border-bottom-color: var(--fill-color);\n",
              "      border-left-color: var(--fill-color);\n",
              "    }\n",
              "    20% {\n",
              "      border-color: transparent;\n",
              "      border-left-color: var(--fill-color);\n",
              "      border-top-color: var(--fill-color);\n",
              "    }\n",
              "    30% {\n",
              "      border-color: transparent;\n",
              "      border-left-color: var(--fill-color);\n",
              "      border-top-color: var(--fill-color);\n",
              "      border-right-color: var(--fill-color);\n",
              "    }\n",
              "    40% {\n",
              "      border-color: transparent;\n",
              "      border-right-color: var(--fill-color);\n",
              "      border-top-color: var(--fill-color);\n",
              "    }\n",
              "    60% {\n",
              "      border-color: transparent;\n",
              "      border-right-color: var(--fill-color);\n",
              "    }\n",
              "    80% {\n",
              "      border-color: transparent;\n",
              "      border-right-color: var(--fill-color);\n",
              "      border-bottom-color: var(--fill-color);\n",
              "    }\n",
              "    90% {\n",
              "      border-color: transparent;\n",
              "      border-bottom-color: var(--fill-color);\n",
              "    }\n",
              "  }\n",
              "</style>\n",
              "\n",
              "  <script>\n",
              "    async function quickchart(key) {\n",
              "      const quickchartButtonEl =\n",
              "        document.querySelector('#' + key + ' button');\n",
              "      quickchartButtonEl.disabled = true;  // To prevent multiple clicks.\n",
              "      quickchartButtonEl.classList.add('colab-df-spinner');\n",
              "      try {\n",
              "        const charts = await google.colab.kernel.invokeFunction(\n",
              "            'suggestCharts', [key], {});\n",
              "      } catch (error) {\n",
              "        console.error('Error during call to suggestCharts:', error);\n",
              "      }\n",
              "      quickchartButtonEl.classList.remove('colab-df-spinner');\n",
              "      quickchartButtonEl.classList.add('colab-df-quickchart-complete');\n",
              "    }\n",
              "    (() => {\n",
              "      let quickchartButtonEl =\n",
              "        document.querySelector('#df-26c63293-12b4-4f42-b961-53a07799add6 button');\n",
              "      quickchartButtonEl.style.display =\n",
              "        google.colab.kernel.accessAllowed ? 'block' : 'none';\n",
              "    })();\n",
              "  </script>\n",
              "</div>\n",
              "    </div>\n",
              "  </div>\n"
            ],
            "text/plain": [
              "        TV  Radio  Newspaper  Sales\n",
              "0    230.1   37.8       69.2   22.1\n",
              "1     44.5   39.3       45.1   10.4\n",
              "2     17.2   45.9       69.3    9.3\n",
              "3    151.5   41.3       58.5   18.5\n",
              "4    180.8   10.8       58.4   12.9\n",
              "..     ...    ...        ...    ...\n",
              "195   38.2    3.7       13.8    7.6\n",
              "196   94.2    4.9        8.1    9.7\n",
              "197  177.0    9.3        6.4   12.8\n",
              "198  283.6   42.0       66.2   25.5\n",
              "199  232.1    8.6        8.7   13.4\n",
              "\n",
              "[200 rows x 4 columns]"
            ]
          },
          "execution_count": 14,
          "metadata": {},
          "output_type": "execute_result"
        }
      ],
      "source": [
        "import pandas\n",
        "data = pandas.read_csv(\"https://modcom.co.ke/datasets/Advertising.csv\")\n",
        "data\n",
        "\n",
        "\n",
        "# Regression in Deep Learning\n",
        "# Supervised Learning\n",
        "# ANN"
      ]
    },
    {
      "cell_type": "code",
      "execution_count": null,
      "metadata": {
        "colab": {
          "background_save": true
        },
        "id": "3TGW0M2lVWma"
      },
      "outputs": [],
      "source": [
        "# Prediction - Supervised Learning\n",
        "# Divide X and Y\n",
        "array = data.values\n",
        "X = array[:, 0:3]\n",
        "Y = array[:, 3]\n"
      ]
    },
    {
      "cell_type": "code",
      "execution_count": null,
      "metadata": {
        "colab": {
          "background_save": true
        },
        "id": "xipfbyOHVdv2"
      },
      "outputs": [],
      "source": [
        "# Split Data into Training Set and Testing Set\n",
        "from sklearn import model_selection\n",
        "X_train, X_test, Y_train, Y_test = model_selection.train_test_split(X, Y, test_size=0.3, random_state=42)"
      ]
    },
    {
      "cell_type": "code",
      "execution_count": null,
      "metadata": {
        "colab": {
          "background_save": true
        },
        "id": "w0pTMKehVmBv"
      },
      "outputs": [],
      "source": [
        "# ANN Features: Sequential, Dense, Dropout, Flatten, activation function\n",
        "from keras.models import Sequential\n",
        "from keras.layers import Dense\n"
      ]
    },
    {
      "cell_type": "code",
      "execution_count": null,
      "metadata": {
        "colab": {
          "background_save": true
        },
        "id": "aBQzd7tgVtZQ"
      },
      "outputs": [],
      "source": [
        "model = Sequential()"
      ]
    },
    {
      "cell_type": "code",
      "execution_count": null,
      "metadata": {
        "colab": {
          "background_save": true
        },
        "id": "mrT5vff-V0W4"
      },
      "outputs": [],
      "source": [
        "# Create the Layers using Dense\n",
        "\n",
        "# Read more: relu, softmax, sigmoid activation functions\n",
        "# relu, sigmoid, softmax\n",
        "# Overfitting a model\n",
        "# Research: On the 3 act. func and determine thier usecase\n",
        "\n",
        "# If output is 1 -> sigmoid\n",
        "# If more than 1 output -> softmax\n",
        "\n",
        "model.add(Dense(500, input_dim = 3, activation = \"relu\"))\n",
        "\n",
        "model.add(Dense(100, activation = \"relu\"))\n",
        "\n",
        "model.add(Dense(50, activation = \"relu\"))\n",
        "\n",
        "\n",
        "# Output Layer\n",
        "model.add(Dense(1, activation = \"sigmoid\"))"
      ]
    },
    {
      "cell_type": "code",
      "execution_count": null,
      "metadata": {
        "colab": {
          "background_save": true,
          "base_uri": "https://localhost:8080/",
          "height": 533
        },
        "id": "riYZ7WPzV6J-",
        "outputId": "d04cc10b-e238-4e0f-a215-644e6dfcf889"
      },
      "outputs": [
        {
          "data": {
            "image/png": "[encoded data removed]",
            "text/plain": [
              "<IPython.core.display.Image object>"
            ]
          },
          "execution_count": 20,
          "metadata": {},
          "output_type": "execute_result"
        }
      ],
      "source": [
        "# Visualizing the ANN Model\n",
        "from keras.utils import plot_model\n",
        "plot_model(model, to_file = 'ann.png', show_shapes = True)"
      ]
    },
    {
      "cell_type": "code",
      "execution_count": null,
      "metadata": {
        "colab": {
          "background_save": true
        },
        "id": "lOCMQMC8kMDV"
      },
      "outputs": [],
      "source": [
        "from keras.callbacks import ModelCheckpoint\n",
        "stored_model = \"advertbest.hdf5\"\n",
        "chechpoint = ModelCheckpoint(stored_model, monitor='loss', mode='min', save_best_only=True, verbose=1)\n",
        "\n",
        "# Store model after every epoch: Monitors the model with the minimun loss"
      ]
    },
    {
      "cell_type": "code",
      "execution_count": null,
      "metadata": {
        "colab": {
          "background_save": true
        },
        "id": "MR3aE170bRBj"
      },
      "outputs": [],
      "source": [
        "# Training and Evaluation\n",
        "# Loss: Measure of how well the model was close to achieving the actual value\n",
        "# 10 * 10 : 90 -> (10)\n",
        "\n",
        "\n",
        "# Optimizer: Weights(parameters) used to fine tune the model, with an aim of reducing the loss and increase the accuracy\n",
        "# Metrics\n",
        "\n",
        "model.compile(loss = \"mean_squared_error\", optimizer = \"adam\", metrics = [\"mae\", \"mape\"])"
      ]
    },
    {
      "cell_type": "code",
      "execution_count": null,
      "metadata": {
        "colab": {
          "background_save": true,
          "base_uri": "https://localhost:8080/"
        },
        "id": "cxu1ivnbe-MT",
        "outputId": "8e875822-4421-47a1-8b99-cc2d4ce4b471"
      },
      "outputs": [
        {
          "name": "stdout",
          "output_type": "stream",
          "text": [
            "Epoch 1/50\n",
            "5/5 [==============================] - 1s 6ms/step - loss: 210.8705 - mae: 13.5998 - mape: 92.6238\n",
            "Epoch 2/50\n",
            "5/5 [==============================] - 0s 4ms/step - loss: 208.4240 - mae: 13.4985 - mape: 91.7253\n",
            "Epoch 3/50\n",
            "5/5 [==============================] - 0s 4ms/step - loss: 208.4180 - mae: 13.4977 - mape: 91.7065\n",
            "Epoch 4/50\n",
            "5/5 [==============================] - 0s 5ms/step - loss: 208.4165 - mae: 13.4975 - mape: 91.7014\n",
            "Epoch 5/50\n",
            "5/5 [==============================] - 0s 4ms/step - loss: 208.4155 - mae: 13.4974 - mape: 91.6979\n",
            "Epoch 6/50\n",
            "5/5 [==============================] - 0s 4ms/step - loss: 208.4152 - mae: 13.4973 - mape: 91.6972\n",
            "Epoch 7/50\n",
            "5/5 [==============================] - 0s 4ms/step - loss: 208.4148 - mae: 13.4973 - mape: 91.6959\n",
            "Epoch 8/50\n",
            "5/5 [==============================] - 0s 5ms/step - loss: 208.4146 - mae: 13.4972 - mape: 91.6953\n",
            "Epoch 9/50\n",
            "5/5 [==============================] - 0s 5ms/step - loss: 208.4145 - mae: 13.4972 - mape: 91.6949\n",
            "Epoch 10/50\n",
            "5/5 [==============================] - 0s 4ms/step - loss: 208.4144 - mae: 13.4972 - mape: 91.6946\n",
            "Epoch 11/50\n",
            "5/5 [==============================] - 0s 5ms/step - loss: 208.4143 - mae: 13.4972 - mape: 91.6945\n",
            "Epoch 12/50\n",
            "5/5 [==============================] - 0s 6ms/step - loss: 208.4142 - mae: 13.4972 - mape: 91.6942\n",
            "Epoch 13/50\n",
            "5/5 [==============================] - 0s 5ms/step - loss: 208.4142 - mae: 13.4972 - mape: 91.6941\n",
            "Epoch 14/50\n",
            "5/5 [==============================] - 0s 5ms/step - loss: 208.4141 - mae: 13.4972 - mape: 91.6940\n",
            "Epoch 15/50\n",
            "5/5 [==============================] - 0s 4ms/step - loss: 208.4141 - mae: 13.4972 - mape: 91.6938\n",
            "Epoch 16/50\n",
            "5/5 [==============================] - 0s 5ms/step - loss: 208.4141 - mae: 13.4972 - mape: 91.6938\n",
            "Epoch 17/50\n",
            "5/5 [==============================] - 0s 4ms/step - loss: 208.4140 - mae: 13.4972 - mape: 91.6936\n",
            "Epoch 18/50\n",
            "5/5 [==============================] - 0s 4ms/step - loss: 208.4140 - mae: 13.4972 - mape: 91.6936\n",
            "Epoch 19/50\n",
            "5/5 [==============================] - 0s 4ms/step - loss: 208.4140 - mae: 13.4972 - mape: 91.6935\n",
            "Epoch 20/50\n",
            "5/5 [==============================] - 0s 5ms/step - loss: 208.4140 - mae: 13.4972 - mape: 91.6935\n",
            "Epoch 21/50\n",
            "5/5 [==============================] - 0s 4ms/step - loss: 208.4140 - mae: 13.4972 - mape: 91.6935\n",
            "Epoch 22/50\n",
            "5/5 [==============================] - 0s 5ms/step - loss: 208.4139 - mae: 13.4972 - mape: 91.6934\n",
            "Epoch 23/50\n",
            "5/5 [==============================] - 0s 4ms/step - loss: 208.4139 - mae: 13.4972 - mape: 91.6934\n",
            "Epoch 24/50\n",
            "5/5 [==============================] - 0s 4ms/step - loss: 208.4139 - mae: 13.4972 - mape: 91.6934\n",
            "Epoch 25/50\n",
            "5/5 [==============================] - 0s 4ms/step - loss: 208.4139 - mae: 13.4972 - mape: 91.6934\n",
            "Epoch 26/50\n",
            "5/5 [==============================] - 0s 4ms/step - loss: 208.4139 - mae: 13.4971 - mape: 91.6933\n",
            "Epoch 27/50\n",
            "5/5 [==============================] - 0s 5ms/step - loss: 208.4139 - mae: 13.4971 - mape: 91.6933\n",
            "Epoch 28/50\n",
            "5/5 [==============================] - 0s 4ms/step - loss: 208.4139 - mae: 13.4971 - mape: 91.6933\n",
            "Epoch 29/50\n",
            "5/5 [==============================] - 0s 5ms/step - loss: 208.4139 - mae: 13.4971 - mape: 91.6933\n",
            "Epoch 30/50\n",
            "5/5 [==============================] - 0s 6ms/step - loss: 208.4139 - mae: 13.4971 - mape: 91.6933\n",
            "Epoch 31/50\n",
            "5/5 [==============================] - 0s 4ms/step - loss: 208.4139 - mae: 13.4971 - mape: 91.6933\n",
            "Epoch 32/50\n",
            "5/5 [==============================] - 0s 4ms/step - loss: 208.4139 - mae: 13.4971 - mape: 91.6933\n",
            "Epoch 33/50\n",
            "5/5 [==============================] - 0s 5ms/step - loss: 208.4139 - mae: 13.4971 - mape: 91.6933\n",
            "Epoch 34/50\n",
            "5/5 [==============================] - 0s 6ms/step - loss: 208.4139 - mae: 13.4971 - mape: 91.6933\n",
            "Epoch 35/50\n",
            "5/5 [==============================] - 0s 5ms/step - loss: 208.4139 - mae: 13.4971 - mape: 91.6933\n",
            "Epoch 36/50\n",
            "5/5 [==============================] - 0s 9ms/step - loss: 208.4139 - mae: 13.4971 - mape: 91.6933\n",
            "Epoch 37/50\n",
            "5/5 [==============================] - 0s 4ms/step - loss: 208.4139 - mae: 13.4971 - mape: 91.6933\n",
            "Epoch 38/50\n",
            "5/5 [==============================] - 0s 4ms/step - loss: 208.4139 - mae: 13.4971 - mape: 91.6933\n",
            "Epoch 39/50\n",
            "5/5 [==============================] - 0s 6ms/step - loss: 208.4139 - mae: 13.4971 - mape: 91.6933\n",
            "Epoch 40/50\n",
            "5/5 [==============================] - 0s 6ms/step - loss: 208.4139 - mae: 13.4971 - mape: 91.6932\n",
            "Epoch 41/50\n",
            "5/5 [==============================] - 0s 6ms/step - loss: 208.4139 - mae: 13.4971 - mape: 91.6933\n",
            "Epoch 42/50\n",
            "5/5 [==============================] - 0s 7ms/step - loss: 208.4139 - mae: 13.4971 - mape: 91.6932\n",
            "Epoch 43/50\n",
            "5/5 [==============================] - 0s 6ms/step - loss: 208.4139 - mae: 13.4971 - mape: 91.6932\n",
            "Epoch 44/50\n",
            "5/5 [==============================] - 0s 7ms/step - loss: 208.4139 - mae: 13.4971 - mape: 91.6932\n",
            "Epoch 45/50\n",
            "5/5 [==============================] - 0s 6ms/step - loss: 208.4139 - mae: 13.4971 - mape: 91.6932\n",
            "Epoch 46/50\n",
            "5/5 [==============================] - 0s 7ms/step - loss: 208.4139 - mae: 13.4971 - mape: 91.6932\n",
            "Epoch 47/50\n",
            "5/5 [==============================] - 0s 6ms/step - loss: 208.4139 - mae: 13.4971 - mape: 91.6932\n",
            "Epoch 48/50\n",
            "5/5 [==============================] - 0s 6ms/step - loss: 208.4139 - mae: 13.4971 - mape: 91.6932\n",
            "Epoch 49/50\n",
            "5/5 [==============================] - 0s 6ms/step - loss: 208.4139 - mae: 13.4971 - mape: 91.6932\n",
            "Epoch 50/50\n",
            "5/5 [==============================] - 0s 7ms/step - loss: 208.4139 - mae: 13.4971 - mape: 91.6932\n"
          ]
        },
        {
          "data": {
            "text/plain": [
              "<keras.src.callbacks.History at 0x7a7a053b4730>"
            ]
          },
          "execution_count": 23,
          "metadata": {},
          "output_type": "execute_result"
        }
      ],
      "source": [
        "# Fit Data\n",
        "# 1. epoch: Number of times ANN runs full of training of the data(As you determine loss and optimizer)\n",
        "# 2. sample: A record on the dataset\n",
        "# 3. batch_size: Number of sample taken per iteration(epoch)\n",
        "\n",
        "# Epochs\n",
        "# 10 * 10 -> 40: First Epoch -> Loss 60, apply optimizer to reducing loss\n",
        "# 10 * 10 -> 60\n",
        "# 10 * 10 -> 80\n",
        "# 10 * 10 -> 95\n",
        "# 10 * 10 -> 100 Loss 0\n",
        "# 10 * 10 -> 100\n",
        "# 10 * 10 -> 100\n",
        "\n",
        "# Learning: When the Loss is close to constant...\n",
        "\n",
        "\n",
        "model.fit(X_train, Y_train, epochs = 50, batch_size = 32)"
      ]
    },
    {
      "cell_type": "code",
      "execution_count": null,
      "metadata": {
        "colab": {
          "background_save": true,
          "base_uri": "https://localhost:8080/"
        },
        "id": "EdBX94yah83S",
        "outputId": "12e7ccc0-4ac3-4776-a0b8-990ef1ed7e8e"
      },
      "outputs": [
        {
          "name": "stdout",
          "output_type": "stream",
          "text": [
            "2/2 [==============================] - 0s 8ms/step - loss: 169.2718 - mae: 11.9150 - mape: 90.9852\n",
            "The Model Scored [169.27183532714844, 11.914999961853027, 90.98515319824219]\n"
          ]
        }
      ],
      "source": [
        "# Model Evalaution\n",
        "score = model.evaluate(X_test, Y_test)\n",
        "print(f\"The Model Scored {score}\")\n",
        "\n",
        "# Mean Squared Error: 4\n",
        "# If the Answer is 10: Then model predicts +-4: 6, 14\n",
        "\n",
        "# MSE: +-2"
      ]
    },
    {
      "cell_type": "code",
      "execution_count": null,
      "metadata": {
        "colab": {
          "background_save": true
        },
        "id": "mEiQ3kBPjNjf"
      },
      "outputs": [],
      "source": [
        "# Predictions"
      ]
    }
  ],
  "metadata": {
    "colab": {
      "provenance": [],
      "include_colab_link": true
    },
    "kernelspec": {
      "display_name": "Python 3",
      "name": "python3"
    },
    "language_info": {
      "name": "python"
    }
  },
  "nbformat": 4,
  "nbformat_minor": 0
}