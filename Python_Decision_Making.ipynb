{
  "nbformat": 4,
  "nbformat_minor": 0,
  "metadata": {
    "colab": {
      "provenance": [],
      "authorship_tag": "ABX9TyNmE/g/pP0YQteulLW1+G0E",
      "include_colab_link": true
    },
    "kernelspec": {
      "name": "python3",
      "display_name": "Python 3"
    },
    "language_info": {
      "name": "python"
    }
  },
  "cells": [
    {
      "cell_type": "markdown",
      "metadata": {
        "id": "view-in-github",
        "colab_type": "text"
      },
      "source": [
        "<a href=\"https://colab.research.google.com/github/KiplahD/Masters/blob/main/Python_Decision_Making.ipynb\" target=\"_parent\"><img src=\"https://colab.research.google.com/assets/colab-badge.svg\" alt=\"Open In Colab\"/></a>"
      ]
    },
    {
      "cell_type": "code",
      "execution_count": null,
      "metadata": {
        "colab": {
          "base_uri": "https://localhost:8080/"
        },
        "id": "lJlDLqsL46S-",
        "outputId": "7a6fbf4c-3673-4438-c4a3-80e3d141e75a"
      },
      "outputs": [
        {
          "output_type": "stream",
          "name": "stdout",
          "text": [
            "Hello\n"
          ]
        }
      ],
      "source": [
        "#Python decision making (if, if...else, else if)\n",
        "#syntax: all the codes should never be idented\n",
        "print(\"Hello\")\n",
        "#when there is a space we get inexpected identation"
      ]
    },
    {
      "cell_type": "code",
      "source": [
        "#control flow: python statements that are used to control the execution\n",
        "#there are three control flows.\n",
        "#there are three control structures\n",
        "#1. sequential structures: the code is executed line by line. for example\n",
        "print(\"line1\")\n",
        "print(\"line2\")\n",
        "print(\"line3\")\n"
      ],
      "metadata": {
        "colab": {
          "base_uri": "https://localhost:8080/"
        },
        "id": "xHvWNO276Rpt",
        "outputId": "3a92f346-683d-4c96-fa37-d76bd348ec8f"
      },
      "execution_count": null,
      "outputs": [
        {
          "output_type": "stream",
          "name": "stdout",
          "text": [
            "line1\n",
            "line2\n",
            "line3\n"
          ]
        }
      ]
    },
    {
      "cell_type": "code",
      "source": [
        "#2. Conditional structures: codes are executed based on a predefined condition.\n",
        "# for example you will log in if both username and password are correct,\n",
        "#another example is the withdrawal where your balance and pin are valid.\n",
        "#categorised into 3 types; if, else,else if,"
      ],
      "metadata": {
        "id": "29q6dtAf7Icq"
      },
      "execution_count": null,
      "outputs": []
    },
    {
      "cell_type": "code",
      "source": [
        "#Python if statement\n",
        "#syntax: if then condition: statement is executed if condition returns true\n",
        "\n",
        "\n",
        "mpesa_pin = 3456\n",
        "if mpesa_pin == 3456:\n",
        "  print(\"proceeding to withdraw...\")"
      ],
      "metadata": {
        "colab": {
          "base_uri": "https://localhost:8080/"
        },
        "id": "mGF2t_768txk",
        "outputId": "7e40a80e-fe1d-4f41-804e-a490126cf9c6"
      },
      "execution_count": null,
      "outputs": [
        {
          "output_type": "stream",
          "name": "stdout",
          "text": [
            "proceeding to withdraw...\n"
          ]
        }
      ]
    },
    {
      "cell_type": "code",
      "source": [
        "age = 18\n",
        "if age > 17:\n",
        "  print(\"Allowed to drive\")"
      ],
      "metadata": {
        "colab": {
          "base_uri": "https://localhost:8080/"
        },
        "id": "hcoLn-Bi-VQs",
        "outputId": "0dc54b07-55aa-43e7-b079-c1ae21d4ec96"
      },
      "execution_count": null,
      "outputs": [
        {
          "output_type": "stream",
          "name": "stdout",
          "text": [
            "Allowed to drive\n"
          ]
        }
      ]
    },
    {
      "cell_type": "code",
      "source": [
        "#python if else statement\n",
        "mpesa_pin = 3456\n",
        "if mpesa_pin == 3457:\n",
        "  print(\"proceeding to withdraw...\")\n",
        "else:\n",
        "  print(\"Wrong Pin!\")"
      ],
      "metadata": {
        "colab": {
          "base_uri": "https://localhost:8080/"
        },
        "id": "9VHuenP7_V02",
        "outputId": "e2e0bddf-0fd8-42fc-ae97-3b322e9f60e6"
      },
      "execution_count": null,
      "outputs": [
        {
          "output_type": "stream",
          "name": "stdout",
          "text": [
            "Wrong Pin!\n"
          ]
        }
      ]
    },
    {
      "cell_type": "code",
      "source": [],
      "metadata": {
        "id": "gz0zLuqb2VBs"
      },
      "execution_count": null,
      "outputs": []
    },
    {
      "cell_type": "code",
      "source": [
        "number = 2\n",
        "if number < 0:\n",
        "  print(\"negative\")\n",
        "else:\n",
        "  print(\"Positive\")"
      ],
      "metadata": {
        "colab": {
          "base_uri": "https://localhost:8080/"
        },
        "id": "caKMxDYeAPqY",
        "outputId": "a1e2054d-5ac7-40b1-9e37-bb9445bb6dee"
      },
      "execution_count": null,
      "outputs": [
        {
          "output_type": "stream",
          "name": "stdout",
          "text": [
            "Positive\n"
          ]
        }
      ]
    },
    {
      "cell_type": "code",
      "source": [
        "#Write a program whether a number is EVEN or ODD\n",
        "# Even: divisible by 2 that is a number % 2 it gives o\n",
        "#Odd: not divisible by 2 that is a number % 2 it does not give o\n",
        "\n",
        "tested_number = 5\n",
        "if tested_number % 2 == 0:\n",
        "  print(\"The number is Even\")\n",
        "else:\n",
        "  print(\"The number is Odd\")"
      ],
      "metadata": {
        "colab": {
          "base_uri": "https://localhost:8080/"
        },
        "id": "nBkOQlohBdWC",
        "outputId": "2f0e2dd2-c381-43d7-9c53-e08585fd4e34"
      },
      "execution_count": null,
      "outputs": [
        {
          "output_type": "stream",
          "name": "stdout",
          "text": [
            "The number is Odd\n"
          ]
        }
      ]
    },
    {
      "cell_type": "code",
      "source": [
        "#pythin else if condition\n",
        "#Here we have multiple condition and multiple statement\n",
        "\n",
        "score = 50\n",
        "if score == 40:\n",
        "  print(\"E\")\n",
        "elif score == 50:\n",
        "  print(\"D\")\n",
        "elif score == 60:\n",
        "  print(\"C\")\n",
        "elif score == 70:\n",
        "  print(\"B\")\n",
        "elif score == 80:\n",
        "  print(\"A\")\n",
        "else:\n",
        "  print(\"Invalid Grade!\")"
      ],
      "metadata": {
        "colab": {
          "base_uri": "https://localhost:8080/"
        },
        "id": "RfNoX6i3DC0V",
        "outputId": "0b988def-a87c-4240-9897-21c9970801fb"
      },
      "execution_count": null,
      "outputs": [
        {
          "output_type": "stream",
          "name": "stdout",
          "text": [
            "D\n"
          ]
        }
      ]
    }
  ]
}