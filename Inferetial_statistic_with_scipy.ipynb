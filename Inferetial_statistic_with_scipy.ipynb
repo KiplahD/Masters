{
  "nbformat": 4,
  "nbformat_minor": 0,
  "metadata": {
    "colab": {
      "provenance": [],
      "authorship_tag": "ABX9TyORQDvEbjungSx2eV3ezZCF",
      "include_colab_link": true
    },
    "kernelspec": {
      "name": "python3",
      "display_name": "Python 3"
    },
    "language_info": {
      "name": "python"
    }
  },
  "cells": [
    {
      "cell_type": "markdown",
      "metadata": {
        "id": "view-in-github",
        "colab_type": "text"
      },
      "source": [
        "<a href=\"https://colab.research.google.com/github/KiplahD/Masters/blob/main/Inferetial_statistic_with_scipy.ipynb\" target=\"_parent\"><img src=\"https://colab.research.google.com/assets/colab-badge.svg\" alt=\"Open In Colab\"/></a>"
      ]
    },
    {
      "cell_type": "code",
      "execution_count": null,
      "metadata": {
        "id": "VLcRYrN8TC5r"
      },
      "outputs": [],
      "source": [
        "  #Descriptive analysis: realize current facts, patterns, trends in the data set\n",
        "  #Descriptive analysis eg mean, mode and median\n",
        "  #Correlation analysis\n",
        "\n",
        "  #Diagnostic/inferetial analysis realize reasons why we are experiencing current trends, facts or patterns.\n",
        "\n",
        "  #Hypothesis testing\n",
        "\n",
        "  #Machine and deep learning:Understand future trend.\n",
        "\n",
        "  #Prescriptive analysis: Actions\n",
        "\n",
        "  #Hypothesis testing\n",
        "\n",
        "  import pandas\n",
        "data = pandas.read_csv('https://modcom.co.ke/data/datasets/schoolcleaned.csv', parse_dates= ['bday', 'enrolldate', 'expgradate'])"
      ]
    },
    {
      "cell_type": "code",
      "source": [
        "#To determine whether a sample represents a population\n",
        "\n",
        "#Population: Weight\n",
        "data['Weight']"
      ],
      "metadata": {
        "colab": {
          "base_uri": "https://localhost:8080/"
        },
        "id": "Kg5tC_GZczE1",
        "outputId": "699a1874-e339-4080-ff1c-5c9b9eb16ff6"
      },
      "execution_count": null,
      "outputs": [
        {
          "output_type": "execute_result",
          "data": {
            "text/plain": [
              "0      181.031569\n",
              "1      181.031569\n",
              "2      234.640000\n",
              "3      181.031569\n",
              "4      224.570000\n",
              "          ...    \n",
              "402    181.031569\n",
              "403    131.920000\n",
              "404    130.070000\n",
              "405    157.260000\n",
              "406    152.330000\n",
              "Name: Weight, Length: 407, dtype: float64"
            ]
          },
          "metadata": {},
          "execution_count": 4
        }
      ]
    },
    {
      "cell_type": "code",
      "source": [
        "#To get neab\n",
        "population_mean_weight= data['Weight'].mean()\n",
        "population_mean_weight"
      ],
      "metadata": {
        "colab": {
          "base_uri": "https://localhost:8080/"
        },
        "id": "zBgJ5Nhnd6ED",
        "outputId": "fb6cded9-1a94-41ac-b24f-95be126701d8"
      },
      "execution_count": null,
      "outputs": [
        {
          "output_type": "execute_result",
          "data": {
            "text/plain": [
              "180.98365570599617"
            ]
          },
          "metadata": {},
          "execution_count": 6
        }
      ]
    },
    {
      "cell_type": "code",
      "source": [
        "#Pick a sample of 30 students to represnt the 435\n",
        "population_30_sample= data['Weight'].sample(30)\n",
        "population_30_sample"
      ],
      "metadata": {
        "colab": {
          "base_uri": "https://localhost:8080/"
        },
        "id": "FB-fbY78eXNh",
        "outputId": "56bad80b-3072-4ee3-fce7-89f8b8e56ef2"
      },
      "execution_count": null,
      "outputs": [
        {
          "output_type": "execute_result",
          "data": {
            "text/plain": [
              "275    186.210000\n",
              "12     175.910000\n",
              "48     206.550000\n",
              "83     192.060000\n",
              "237    173.430000\n",
              "60     164.530000\n",
              "368    174.280000\n",
              "352    157.370000\n",
              "208    159.580000\n",
              "70     158.960000\n",
              "404    130.070000\n",
              "285    181.031569\n",
              "269    164.020000\n",
              "148    181.031569\n",
              "209    172.850000\n",
              "101    153.870000\n",
              "131    153.830000\n",
              "21     157.670000\n",
              "50     194.740000\n",
              "361    127.140000\n",
              "224    166.970000\n",
              "194    209.320000\n",
              "231    181.031569\n",
              "313    244.670000\n",
              "153    217.450000\n",
              "351    169.600000\n",
              "192    141.530000\n",
              "307    142.540000\n",
              "137    181.031569\n",
              "97     160.060000\n",
              "Name: Weight, dtype: float64"
            ]
          },
          "metadata": {},
          "execution_count": 7
        }
      ]
    },
    {
      "cell_type": "code",
      "source": [
        "#1samplettest\n",
        "from scipy.stats import ttest_1samp\n",
        "confidence, alpha = ttest_1samp(a=population_30_sample, popmean=population_mean_weight)\n",
        "alpha"
      ],
      "metadata": {
        "colab": {
          "base_uri": "https://localhost:8080/"
        },
        "id": "tJMiiF3te5jH",
        "outputId": "bf1b511b-c390-4617-f9bb-54f10cbf35e6"
      },
      "execution_count": null,
      "outputs": [
        {
          "output_type": "execute_result",
          "data": {
            "text/plain": [
              "0.08212558922956138"
            ]
          },
          "metadata": {},
          "execution_count": 8
        }
      ]
    },
    {
      "cell_type": "code",
      "source": [
        "if alpha < 0.05:\n",
        "  print('The confidence to reject is increasing...')\n",
        "  print('NULL REJECTED')\n",
        "  print('ALTERNATE ACCEPTED')\n",
        "  print('The sample is NOT representing the population')\n",
        "else:\n",
        "  print('The confidence to reject is decreasing...')\n",
        "  print('NULL ACCEPTED')\n",
        "  print('ALTERNATE REJECTED')\n",
        "  print('The sample is representing the population')"
      ],
      "metadata": {
        "colab": {
          "base_uri": "https://localhost:8080/"
        },
        "id": "nsSl-H8mgF3t",
        "outputId": "bed04aa6-e43c-434b-82cb-913a20c7a41b"
      },
      "execution_count": null,
      "outputs": [
        {
          "output_type": "stream",
          "name": "stdout",
          "text": [
            "The confidence to reject is decreasing...\n",
            "NULL ACCEPTED\n",
            "ALTERNATE REJECTED\n",
            "The sample is representing the population\n"
          ]
        }
      ]
    },
    {
      "cell_type": "code",
      "source": [
        "from IPython.core.async_helpers import indent\n",
        "#Two sample test\n",
        "sample1= data['English'].sample(25)\n",
        "sample2= data['English'].sample(25)\n",
        "\n",
        "from scipy.stats import ttest_ind\n",
        "confidence,alpha= ttest_ind(a=sample1, b=sample2)\n",
        "\n",
        "if alpha <0.05:\n",
        "  print('Confidence is increasing..')\n",
        "  print('NULL REJECTED')\n",
        "  print('The Sample does not have the same MEAN')\n",
        "else:\n",
        "  print('Confidence is decreasing..')\n",
        "  print('NULL ACCEPTED')\n",
        "  print('The Sample does have the same MEAN')"
      ],
      "metadata": {
        "colab": {
          "base_uri": "https://localhost:8080/"
        },
        "id": "-atsknfokRB8",
        "outputId": "c2df9f33-62e0-42bd-b78d-2e9d9ed4a070"
      },
      "execution_count": null,
      "outputs": [
        {
          "output_type": "stream",
          "name": "stdout",
          "text": [
            "Confidence is decreasing..\n",
            "NULL ACCEPTED\n",
            "The Sample does have the same MEAN\n"
          ]
        }
      ]
    }
  ]
}