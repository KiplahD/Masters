{
  "nbformat": 4,
  "nbformat_minor": 0,
  "metadata": {
    "colab": {
      "provenance": [],
      "authorship_tag": "ABX9TyMy4e1QA/LOw6F8C997Fp8v",
      "include_colab_link": true
    },
    "kernelspec": {
      "name": "python3",
      "display_name": "Python 3"
    },
    "language_info": {
      "name": "python"
    }
  },
  "cells": [
    {
      "cell_type": "markdown",
      "metadata": {
        "id": "view-in-github",
        "colab_type": "text"
      },
      "source": [
        "<a href=\"https://colab.research.google.com/github/KiplahD/Masters/blob/main/Creating_a_funnel_Chart.ipynb\" target=\"_parent\"><img src=\"https://colab.research.google.com/assets/colab-badge.svg\" alt=\"Open In Colab\"/></a>"
      ]
    },
    {
      "cell_type": "code",
      "execution_count": null,
      "metadata": {
        "id": "XyXIi600HIQ4"
      },
      "outputs": [],
      "source": [
        "#Create a funnel chart using matplotlib\n",
        "import matplotlib.pyplot as plt"
      ]
    },
    {
      "cell_type": "code",
      "source": [
        "#Define data for the chart\n",
        "labels = ['Step 1', 'Step 2', 'Step 3', 'Step 4', 'Step 5']\n",
        "values = [100, 90, 70, 50, 30]"
      ],
      "metadata": {
        "id": "eiddYCLJHojG"
      },
      "execution_count": null,
      "outputs": []
    },
    {
      "cell_type": "code",
      "source": [
        "#Calculate cumulative_values\n",
        "cumulative_values = [sum(values[:i + 1]) for i in range (len(values))]"
      ],
      "metadata": {
        "id": "s-_kte0QKgVj"
      },
      "execution_count": null,
      "outputs": []
    },
    {
      "cell_type": "code",
      "source": [
        "#Define colors for each segment\n",
        "colors = ['blue', 'green', 'red', 'yellow', 'pink']\n"
      ],
      "metadata": {
        "id": "j4_mjwGsIFsZ"
      },
      "execution_count": null,
      "outputs": []
    },
    {
      "cell_type": "code",
      "source": [
        "#Create a funnel chart\n",
        "fig, ax = plt.subplots()\n",
        "for i in range (len(labels)):\n",
        "  ax.fill_betweenx([i, i + 1], 0, cumulative_values[i], step = 'mid', alpha = 0.7, color = colors[i])\n",
        "ax.set_yticks(range(len(labels)))\n",
        "ax.set_yticklabels(labels)\n",
        "ax.set_xlabel('Conversion Rate')"
      ],
      "metadata": {
        "colab": {
          "base_uri": "https://localhost:8080/",
          "height": 466
        },
        "id": "kOFYbkOOIb8V",
        "outputId": "1a355f58-4bf5-4109-ce44-cbbf41e2c3d6"
      },
      "execution_count": null,
      "outputs": [
        {
          "output_type": "execute_result",
          "data": {
            "text/plain": [
              "Text(0.5, 0, 'Conversion Rate')"
            ]
          },
          "metadata": {},
          "execution_count": 8
        },
        {
          "output_type": "display_data",
          "data": {
            "text/plain": [
              "<Figure size 640x480 with 1 Axes>"
            ],
            "image/png": "[encoded data removed]"
          },
          "metadata": {}
        }
      ]
    },
    {
      "cell_type": "code",
      "source": [
        "#Add labels to the bar\n",
        "for i, value in enumerate(cumulative_values):\n",
        "  ax.annotate(str(value), xy(value, i), xytext(5, 5), textcoords = 'offset points')\n",
        "plt.title('Funnel Chart')\n",
        "plt.show()\n"
      ],
      "metadata": {
        "id": "VAUG6ZuwMrIS"
      },
      "execution_count": null,
      "outputs": []
    }
  ]
}