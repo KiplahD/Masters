{
  "nbformat": 4,
  "nbformat_minor": 0,
  "metadata": {
    "colab": {
      "provenance": [],
      "authorship_tag": "ABX9TyNwOxuHetT/SahZrt8CVmwV",
      "include_colab_link": true
    },
    "kernelspec": {
      "name": "python3",
      "display_name": "Python 3"
    },
    "language_info": {
      "name": "python"
    }
  },
  "cells": [
    {
      "cell_type": "markdown",
      "metadata": {
        "id": "view-in-github",
        "colab_type": "text"
      },
      "source": [
        "<a href=\"https://colab.research.google.com/github/KiplahD/Masters/blob/main/Import_Calendar.ipynb\" target=\"_parent\"><img src=\"https://colab.research.google.com/assets/colab-badge.svg\" alt=\"Open In Colab\"/></a>"
      ]
    },
    {
      "cell_type": "code",
      "execution_count": null,
      "metadata": {
        "colab": {
          "base_uri": "https://localhost:8080/"
        },
        "id": "k5Ys_W_pUG5i",
        "outputId": "6c10e89e-0a18-4f44-a937-a5615b6ed472"
      },
      "outputs": [
        {
          "output_type": "stream",
          "name": "stdout",
          "text": [
            "Year:2024\n",
            "                                                  2024\n",
            "\n",
            "      January                     February                     March                       April\n",
            "Mo Tu We Th Fr Sa Su        Mo Tu We Th Fr Sa Su        Mo Tu We Th Fr Sa Su        Mo Tu We Th Fr Sa Su\n",
            " 1  2  3  4  5  6  7                  1  2  3  4                     1  2  3         1  2  3  4  5  6  7\n",
            " 8  9 10 11 12 13 14         5  6  7  8  9 10 11         4  5  6  7  8  9 10         8  9 10 11 12 13 14\n",
            "15 16 17 18 19 20 21        12 13 14 15 16 17 18        11 12 13 14 15 16 17        15 16 17 18 19 20 21\n",
            "22 23 24 25 26 27 28        19 20 21 22 23 24 25        18 19 20 21 22 23 24        22 23 24 25 26 27 28\n",
            "29 30 31                    26 27 28 29                 25 26 27 28 29 30 31        29 30\n",
            "\n",
            "        May                         June                        July                       August\n",
            "Mo Tu We Th Fr Sa Su        Mo Tu We Th Fr Sa Su        Mo Tu We Th Fr Sa Su        Mo Tu We Th Fr Sa Su\n",
            "       1  2  3  4  5                        1  2         1  2  3  4  5  6  7                  1  2  3  4\n",
            " 6  7  8  9 10 11 12         3  4  5  6  7  8  9         8  9 10 11 12 13 14         5  6  7  8  9 10 11\n",
            "13 14 15 16 17 18 19        10 11 12 13 14 15 16        15 16 17 18 19 20 21        12 13 14 15 16 17 18\n",
            "20 21 22 23 24 25 26        17 18 19 20 21 22 23        22 23 24 25 26 27 28        19 20 21 22 23 24 25\n",
            "27 28 29 30 31              24 25 26 27 28 29 30        29 30 31                    26 27 28 29 30 31\n",
            "\n",
            "     September                    October                     November                    December\n",
            "Mo Tu We Th Fr Sa Su        Mo Tu We Th Fr Sa Su        Mo Tu We Th Fr Sa Su        Mo Tu We Th Fr Sa Su\n",
            "                   1            1  2  3  4  5  6                     1  2  3                           1\n",
            " 2  3  4  5  6  7  8         7  8  9 10 11 12 13         4  5  6  7  8  9 10         2  3  4  5  6  7  8\n",
            " 9 10 11 12 13 14 15        14 15 16 17 18 19 20        11 12 13 14 15 16 17         9 10 11 12 13 14 15\n",
            "16 17 18 19 20 21 22        21 22 23 24 25 26 27        18 19 20 21 22 23 24        16 17 18 19 20 21 22\n",
            "23 24 25 26 27 28 29        28 29 30 31                 25 26 27 28 29 30           23 24 25 26 27 28 29\n",
            "30                                                                                  30 31\n",
            "\n"
          ]
        }
      ],
      "source": [
        "from calendar import*\n",
        "year = int(input(\"Year:\"))\n",
        "print(calendar(year, 2, 1, 8, 4))"
      ]
    }
  ]
}